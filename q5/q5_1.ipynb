{
 "cells": [
  {
   "cell_type": "code",
   "execution_count": 20,
   "metadata": {},
   "outputs": [
    {
     "name": "stdout",
     "output_type": "stream",
     "text": [
      "Введите Т1, Т2, Т3: \n",
      "10 5 8\n",
      "Введите количество кругов: 100\n",
      "Cреднее время одного круга:  15.08\n"
     ]
    }
   ],
   "source": [
    "print('Введите Т1, Т2, Т3: ')\n",
    "t1,t2,t3 = map(int,input().split())\n",
    "\n",
    "s = int(input('Введите количество кругов: '))\n",
    "\n",
    "x = []\n",
    "y = []\n",
    "t = 0\n",
    "m1 = 0\n",
    "m2 = 0\n",
    "p = 0\n",
    "f = False\n",
    "for i in range(s):\n",
    "    if f:\n",
    "        m2 += t3\n",
    "        p += max(m2 - m1, m1)\n",
    "        x.append(i)\n",
    "        y.append(p / i)\n",
    "        m2 = t2 + max(t1, t3)\n",
    "        m1 = t2 + max(t1, t3)\n",
    "        t += t2 + max(t1, t3)\n",
    "    else:\n",
    "        f = True\n",
    "        m2 = t1 + t2\n",
    "        t += t1 + t2\n",
    "x.append(s)\n",
    "\n",
    "y.append((t + t3)  / s)\n",
    "print('Cреднее время одного круга: ', (t + t3)  / s)\n"
   ]
  },
  {
   "cell_type": "code",
   "execution_count": 21,
   "metadata": {},
   "outputs": [
    {
     "data": {
      "text/plain": [
       "[<matplotlib.lines.Line2D at 0x7f480d15d128>]"
      ]
     },
     "execution_count": 21,
     "metadata": {},
     "output_type": "execute_result"
    },
    {
     "data": {
      "image/png": "[encoded data removed]",
      "text/plain": [
       "<matplotlib.figure.Figure at 0x7f480d1d47b8>"
      ]
     },
     "metadata": {},
     "output_type": "display_data"
    }
   ],
   "source": [
    "import matplotlib.pyplot as plt\n",
    "import numpy as np\n",
    "%matplotlib inline\n",
    "plt.title('Зависимость среднего времени одного круга от их количества: ')\n",
    "plt.plot(x, y, color = 'green')"
   ]
  },
  {
   "cell_type": "code",
   "execution_count": null,
   "metadata": {
    "collapsed": true
   },
   "outputs": [],
   "source": []
  }
 ],
 "metadata": {
  "kernelspec": {
   "display_name": "Python 3",
   "language": "python",
   "name": "python3"
  },
  "language_info": {
   "codemirror_mode": {
    "name": "ipython",
    "version": 3
   },
   "file_extension": ".py",
   "mimetype": "text/x-python",
   "name": "python",
   "nbconvert_exporter": "python",
   "pygments_lexer": "ipython3",
   "version": "3.6.3"
  }
 },
 "nbformat": 4,
 "nbformat_minor": 2
}
