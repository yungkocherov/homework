{
 "cells": [
  {
   "cell_type": "code",
   "execution_count": 35,
   "metadata": {},
   "outputs": [
    {
     "name": "stdout",
     "output_type": "stream",
     "text": [
      "Сколько дней Кеня будет пытаться в любовь?: \n",
      "30\n",
      "Вероятность удачной попытки (с Константином):  0.06666666666666667\n"
     ]
    }
   ],
   "source": [
    "# вероятность встречи с Константином = ((1-0.11)**5(=вероятность невстречи бага Клавдией)) *0.11\n",
    "import random\n",
    "random.seed()\n",
    "k = 0\n",
    "x = []\n",
    "y = []\n",
    "z = []\n",
    "print(\"Сколько дней Кеня будет пытаться в любовь?: \")\n",
    "d = int(input())\n",
    "for i in range(d):\n",
    "    f = False\n",
    "    for j in range(5):\n",
    "        a = random.randint(1, 100)\n",
    "        if a <= 11:\n",
    "            f = True\n",
    "            break\n",
    "    if not f:   \n",
    "        a = random.randint(1, 100)\n",
    "        if a <= 11:\n",
    "            f = True\n",
    "            k += 1\n",
    "            continue\n",
    "    else: \n",
    "        y.append(k / (i+1))\n",
    "        x.append(i)\n",
    "        z.append(((0.89)**5)*0.11)\n",
    "        continue\n",
    "    y.append(k / (i+1))\n",
    "    x.append(i)\n",
    "    z.append(((0.89)**5)*0.11)\n",
    "print(\"Вероятность удачной попытки (с Константином): \", k  / d)"
   ]
  },
  {
   "cell_type": "code",
   "execution_count": 36,
   "metadata": {},
   "outputs": [
    {
     "data": {
      "text/plain": [
       "[<matplotlib.lines.Line2D at 0x7fecc702af60>]"
      ]
     },
     "execution_count": 36,
     "metadata": {},
     "output_type": "execute_result"
    },
    {
     "data": {
      "image/png": "[encoded data removed]",
      "text/plain": [
       "<matplotlib.figure.Figure at 0x7fecd0131668>"
      ]
     },
     "metadata": {},
     "output_type": "display_data"
    }
   ],
   "source": [
    "import matplotlib.pyplot as plt\n",
    "import numpy as np\n",
    "%matplotlib inline\n",
    "plt.title(\"Зависимость вероятности встречи с Константином от кол-ва попыток: \")\n",
    "plt.plot(x, y, color = 'red')\n",
    "plt.plot(x, z, color  = 'green')"
   ]
  },
  {
   "cell_type": "code",
   "execution_count": null,
   "metadata": {
    "collapsed": true
   },
   "outputs": [],
   "source": []
  }
 ],
 "metadata": {
  "kernelspec": {
   "display_name": "Python 3",
   "language": "python",
   "name": "python3"
  },
  "language_info": {
   "codemirror_mode": {
    "name": "ipython",
    "version": 3
   },
   "file_extension": ".py",
   "mimetype": "text/x-python",
   "name": "python",
   "nbconvert_exporter": "python",
   "pygments_lexer": "ipython3",
   "version": "3.6.3"
  }
 },
 "nbformat": 4,
 "nbformat_minor": 2
}
